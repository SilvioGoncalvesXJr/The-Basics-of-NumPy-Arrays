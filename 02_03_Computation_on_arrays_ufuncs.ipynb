{
  "cells": [
    {
      "cell_type": "markdown",
      "metadata": {
        "id": "view-in-github",
        "colab_type": "text"
      },
      "source": [
        "<a href=\"https://colab.research.google.com/github/SilvioGoncalvesXJr/The-Basics-of-NumPy-Arrays/blob/main/02_03_Computation_on_arrays_ufuncs.ipynb\" target=\"_parent\"><img src=\"https://colab.research.google.com/assets/colab-badge.svg\" alt=\"Open In Colab\"/></a>"
      ]
    },
    {
      "cell_type": "code",
      "source": [],
      "metadata": {
        "id": "BG2rJTzy2yV4"
      },
      "execution_count": null,
      "outputs": []
    },
    {
      "cell_type": "markdown",
      "metadata": {
        "id": "eJdXFXw52q--"
      },
      "source": [
        "# Computation on NumPy Arrays: Universal Functions"
      ]
    },
    {
      "cell_type": "markdown",
      "metadata": {
        "id": "doW3MUAx2q_A"
      },
      "source": [
        "Up until now, we have been discussing some of the basic nuts and bolts of NumPy. In the next few chapters, we will dive into the reasons that NumPy is so important in the Python data science world: namely, because it provides an easy and flexible interface to optimize computation with arrays of data.\n",
        "\n",
        "Computation on NumPy arrays can be very fast, or it can be very slow.\n",
        "The key to making it fast is to use vectorized operations, generally implemented through NumPy's *universal functions* (ufuncs).\n",
        "This chapter motivates the need for NumPy's ufuncs, which can be used to make repeated calculations on array elements much more efficient.\n",
        "It then introduces many of the most common and useful arithmetic ufuncs available in the NumPy package."
      ]
    },
    {
      "cell_type": "markdown",
      "metadata": {
        "id": "zREUyS5K2q_B"
      },
      "source": [
        "## The Slowness of Loops\n",
        "\n",
        "Python's default implementation (known as CPython) does some operations very slowly.\n",
        "This is partly due to the dynamic, interpreted nature of the language; types are flexible, so sequences of operations cannot be compiled down to efficient machine code as in languages like C and Fortran.\n",
        "Recently there have been various attempts to address this weakness: well-known examples are the [PyPy project](http://pypy.org/), a just-in-time compiled implementation of Python; the [Cython project](http://cython.org), which converts Python code to compilable C code; and the [Numba project](http://numba.pydata.org/), which converts snippets of Python code to fast LLVM bytecode.\n",
        "Each of these has its strengths and weaknesses, but it is safe to say that none of the three approaches has yet surpassed the reach and popularity of the standard CPython engine.\n",
        "\n",
        "The relative sluggishness of Python generally manifests itself in situations where many small operations are being repeated; for instance, looping over arrays to operate on each element.\n",
        "For example, imagine we have an array of values and we'd like to compute the reciprocal of each.\n",
        "A straightforward approach might look like this:"
      ]
    },
    {
      "cell_type": "code",
      "execution_count": null,
      "metadata": {
        "jupyter": {
          "outputs_hidden": false
        },
        "id": "liN7hItw2q_B",
        "outputId": "57503fdc-3f1b-4758-9471-8e196a7c2930",
        "colab": {
          "base_uri": "https://localhost:8080/"
        }
      },
      "outputs": [
        {
          "output_type": "execute_result",
          "data": {
            "text/plain": [
              "array([0.11111111, 0.25      , 1.        , 0.33333333, 0.125     ])"
            ]
          },
          "metadata": {},
          "execution_count": 4
        }
      ],
      "source": [
        "import numpy as np\n",
        "rng = np.random.default_rng(seed=1701)\n",
        "\n",
        "'''\n",
        "- np.empty(len(values)): Cria um array vazio (output) com o mesmo tamanho do array values. Esse array será preenchido com os recíprocos calculados.\n",
        "\n",
        "len(values): Retorna o número de elementos no array values.\n",
        "'''\n",
        "\n",
        "def compute_reciprocals(values):\n",
        "    output = np.empty(len(values))\n",
        "    for i in range(len(values)):\n",
        "        output[i] = 1.0 / values[i]\n",
        "    return output\n",
        "\n",
        "'''- rng.integers(1, 10, size=5): Gera um array com 5 números inteiros aleatórios entre 1 (inclusivo) e 10 (exclusivo).\n",
        "\n",
        "Como a seed foi definida como 1701, os valores gerados serão sempre os mesmos'''\n",
        "\n",
        "values = rng.integers(1, 10, size=5)\n",
        "compute_reciprocals(values)"
      ]
    },
    {
      "cell_type": "markdown",
      "metadata": {
        "id": "B4KP__3G2q_C"
      },
      "source": [
        "This implementation probably feels fairly natural to someone from, say, a C or Java background.\n",
        "But if we measure the execution time of this code for a large input, we see that this operation is very slow—perhaps surprisingly so!\n",
        "We'll benchmark this with IPython's `%timeit` magic (discussed in [Profiling and Timing Code](01.07-Timing-and-Profiling.ipynb)):"
      ]
    },
    {
      "cell_type": "code",
      "execution_count": null,
      "metadata": {
        "jupyter": {
          "outputs_hidden": false
        },
        "id": "QiWFEd2Z2q_D",
        "outputId": "5b5f8e88-fac5-4d56-9ee6-d4cf3934de03",
        "colab": {
          "base_uri": "https://localhost:8080/"
        }
      },
      "outputs": [
        {
          "output_type": "stream",
          "name": "stdout",
          "text": [
            "1.94 s ± 293 ms per loop (mean ± std. dev. of 7 runs, 1 loop each)\n"
          ]
        }
      ],
      "source": [
        "big_array = rng.integers(1, 100, size=1000000)\n",
        "%timeit compute_reciprocals(big_array)"
      ]
    },
    {
      "cell_type": "markdown",
      "metadata": {
        "id": "myRHsyFL2q_D"
      },
      "source": [
        "It takes several seconds to compute these million operations and to store the result!\n",
        "When even cell phones have processing speeds measured in gigaflops (i.e., billions of numerical operations per second), this seems almost absurdly slow.\n",
        "It turns out that the bottleneck here is not the operations themselves, but the type checking and function dispatches that CPython must do at each cycle of the loop.\n",
        "Each time the reciprocal is computed, Python first examines the object's type and does a dynamic lookup of the correct function to use for that type.\n",
        "If we were working in compiled code instead, this type specification would be known before the code executed and the result could be computed much more efficiently."
      ]
    },
    {
      "cell_type": "markdown",
      "metadata": {
        "id": "WUy7VUbb2q_E"
      },
      "source": [
        "## Introducing Ufuncs\n",
        "\n",
        "For many types of operations, NumPy provides a convenient interface into just this kind of statically typed, compiled routine. This is known as a *vectorized* operation.\n",
        "For simple operations like the element-wise division here, vectorization is as simple as using Python arithmetic operators directly on the array object.\n",
        "This vectorized approach is designed to push the loop into the compiled layer that underlies NumPy, leading to much faster execution.\n",
        "\n",
        "Compare the results of the following two operations:"
      ]
    },
    {
      "cell_type": "code",
      "execution_count": null,
      "metadata": {
        "jupyter": {
          "outputs_hidden": false
        },
        "id": "pUet-ryC2q_E",
        "outputId": "b6e3a2eb-77dd-4cf3-a5a8-d9f3649d59f2",
        "colab": {
          "base_uri": "https://localhost:8080/"
        }
      },
      "outputs": [
        {
          "output_type": "stream",
          "name": "stdout",
          "text": [
            "[0.11111111 0.25       1.         0.33333333 0.125     ]\n",
            "\n",
            "[0.11111111 0.25       1.         0.33333333 0.125     ]\n"
          ]
        }
      ],
      "source": [
        "print(compute_reciprocals(values))\n",
        "print()\n",
        "print(1.0 / values)"
      ]
    },
    {
      "cell_type": "markdown",
      "metadata": {
        "id": "fITgOe032q_E"
      },
      "source": [
        "Looking at the execution time for our big array, we see that it completes orders of magnitude faster than the Python loop:"
      ]
    },
    {
      "cell_type": "code",
      "execution_count": null,
      "metadata": {
        "jupyter": {
          "outputs_hidden": false
        },
        "id": "bI4xg0WR2q_F",
        "outputId": "edc70545-dfb6-46b5-ead0-ac4c96c27d99",
        "colab": {
          "base_uri": "https://localhost:8080/"
        }
      },
      "outputs": [
        {
          "output_type": "stream",
          "name": "stdout",
          "text": [
            "2.16 ms ± 263 µs per loop (mean ± std. dev. of 7 runs, 100 loops each)\n"
          ]
        }
      ],
      "source": [
        "%timeit (1.0 / big_array)"
      ]
    },
    {
      "cell_type": "markdown",
      "metadata": {
        "id": "UFoZry9P2q_F"
      },
      "source": [
        "Vectorized operations in NumPy are implemented via ufuncs, whose main purpose is to quickly execute repeated operations on values in NumPy arrays.\n",
        "Ufuncs are extremely flexible—before we saw an operation between a scalar and an array, but we can also operate between two arrays:"
      ]
    },
    {
      "cell_type": "code",
      "execution_count": null,
      "metadata": {
        "jupyter": {
          "outputs_hidden": false
        },
        "id": "C8niRYlL2q_F",
        "outputId": "424663f7-b099-47e9-e10b-840f82598724",
        "colab": {
          "base_uri": "https://localhost:8080/"
        }
      },
      "outputs": [
        {
          "output_type": "execute_result",
          "data": {
            "text/plain": [
              "array([0.        , 0.5       , 0.66666667, 0.75      , 0.8       ])"
            ]
          },
          "metadata": {},
          "execution_count": 9
        }
      ],
      "source": [
        "np.arange(5) / np.arange(1, 6)\n",
        "#A função np.arange(1, 6) cria um array unidimensional com números de 1 a 5 (5 elementos)"
      ]
    },
    {
      "cell_type": "markdown",
      "metadata": {
        "id": "To4kDgTN2q_G"
      },
      "source": [
        "And ufunc operations are not limited to one-dimensional arrays. They can act on multidimensional arrays as well:"
      ]
    },
    {
      "cell_type": "code",
      "execution_count": null,
      "metadata": {
        "jupyter": {
          "outputs_hidden": false
        },
        "id": "J1b_-EYV2q_G",
        "outputId": "a90cc657-d388-4bc5-cb38-37053fe93426",
        "colab": {
          "base_uri": "https://localhost:8080/"
        }
      },
      "outputs": [
        {
          "output_type": "execute_result",
          "data": {
            "text/plain": [
              "array([[  1,   2,   4],\n",
              "       [  8,  16,  32],\n",
              "       [ 64, 128, 256]])"
            ]
          },
          "metadata": {},
          "execution_count": 11
        }
      ],
      "source": [
        "x = np.arange(9).reshape((3, 3))\n",
        "'''A função np.arange(9) cria um array unidimensional com números de 0 a 8 (ou seja, 9 elementos)\n",
        "O método reshape((3, 3)) transforma o array unidimensional em uma matriz bidimensional de 3 linhas e 3 colunas'''\n",
        "2 ** x"
      ]
    },
    {
      "cell_type": "markdown",
      "metadata": {
        "id": "dBZJCSJA2q_G"
      },
      "source": [
        "Computations using vectorization through ufuncs are nearly always more efficient than their counterparts implemented using Python loops, especially as the arrays grow in size.\n",
        "Any time you see such a loop in a NumPy script, you should consider whether it can be replaced with a vectorized expression."
      ]
    },
    {
      "cell_type": "markdown",
      "metadata": {
        "id": "N4rkd8KR2q_G"
      },
      "source": [
        "## Exploring NumPy's Ufuncs\n",
        "\n",
        "Ufuncs exist in two flavors: *unary ufuncs*, which operate on a single input, and *binary ufuncs*, which operate on two inputs.\n",
        "We'll see examples of both these types of functions here."
      ]
    },
    {
      "cell_type": "markdown",
      "metadata": {
        "id": "4saLhCz22q_G"
      },
      "source": [
        "### Array Arithmetic\n",
        "\n",
        "NumPy's ufuncs feel very natural to use because they make use of Python's native arithmetic operators.\n",
        "The standard addition, subtraction, multiplication, and division can all be used:"
      ]
    },
    {
      "cell_type": "code",
      "execution_count": null,
      "metadata": {
        "jupyter": {
          "outputs_hidden": false
        },
        "id": "1R_M5xOA2q_G",
        "outputId": "8303171f-8e26-4454-88d1-049470fcec7f",
        "colab": {
          "base_uri": "https://localhost:8080/"
        }
      },
      "outputs": [
        {
          "output_type": "stream",
          "name": "stdout",
          "text": [
            "x      = [0 1 2 3]\n",
            "x + 5  = [5 6 7 8]\n",
            "x - 5  = [-5 -4 -3 -2]\n",
            "x * 2  = [0 2 4 6]\n",
            "x / 2  = [0.  0.5 1.  1.5]\n",
            "x // 2 = [0 0 1 1]\n"
          ]
        }
      ],
      "source": [
        "x = np.arange(4)\n",
        "print(\"x      =\", x)\n",
        "print(\"x + 5  =\", x + 5)\n",
        "print(\"x - 5  =\", x - 5)\n",
        "print(\"x * 2  =\", x * 2)\n",
        "print(\"x / 2  =\", x / 2)\n",
        "print(\"x // 2 =\", x // 2)  # floor division"
      ]
    },
    {
      "cell_type": "markdown",
      "metadata": {
        "id": "jyT9tmDn2q_H"
      },
      "source": [
        "There is also a unary ufunc for negation, a `**` operator for exponentiation, and a `%` operator for modulus:"
      ]
    },
    {
      "cell_type": "code",
      "execution_count": null,
      "metadata": {
        "jupyter": {
          "outputs_hidden": false
        },
        "id": "MYWbJsZi2q_H",
        "outputId": "ee6431e6-dd3a-4a98-cab8-33dfc4462699"
      },
      "outputs": [
        {
          "name": "stdout",
          "output_type": "stream",
          "text": [
            "-x     =  [ 0 -1 -2 -3]\n",
            "x ** 2 =  [0 1 4 9]\n",
            "x % 2  =  [0 1 0 1]\n"
          ]
        }
      ],
      "source": [
        "print(\"-x     = \", -x)\n",
        "print(\"x ** 2 = \", x ** 2)\n",
        "print(\"x % 2  = \", x % 2)"
      ]
    },
    {
      "cell_type": "markdown",
      "metadata": {
        "id": "91gJWcWI2q_H"
      },
      "source": [
        "In addition, these can be strung together however you wish, and the standard order of operations is respected:"
      ]
    },
    {
      "cell_type": "code",
      "execution_count": null,
      "metadata": {
        "jupyter": {
          "outputs_hidden": false
        },
        "id": "krCPQEo62q_H",
        "outputId": "d52981aa-0ee8-49c9-f2a5-331fa2495297",
        "colab": {
          "base_uri": "https://localhost:8080/"
        }
      },
      "outputs": [
        {
          "output_type": "execute_result",
          "data": {
            "text/plain": [
              "array([-1.  , -2.25, -4.  , -6.25])"
            ]
          },
          "metadata": {},
          "execution_count": 13
        }
      ],
      "source": [
        "-(0.5*x + 1) ** 2"
      ]
    },
    {
      "cell_type": "markdown",
      "metadata": {
        "id": "4l-Vowu52q_H"
      },
      "source": [
        "All of these arithmetic operations are simply convenient wrappers around specific ufuncs built into NumPy. For example, the `+` operator is a wrapper for the `add` ufunc:"
      ]
    },
    {
      "cell_type": "code",
      "execution_count": null,
      "metadata": {
        "jupyter": {
          "outputs_hidden": false
        },
        "id": "S8sfMUB62q_I",
        "outputId": "a104cb87-6117-45b7-819e-cb95721e998d"
      },
      "outputs": [
        {
          "data": {
            "text/plain": [
              "array([2, 3, 4, 5])"
            ]
          },
          "execution_count": 10,
          "metadata": {},
          "output_type": "execute_result"
        }
      ],
      "source": [
        "np.add(x, 2)"
      ]
    },
    {
      "cell_type": "markdown",
      "metadata": {
        "id": "raxwNu1c2q_I"
      },
      "source": [
        "The following table lists the arithmetic operators implemented in NumPy:\n",
        "\n",
        "| Operator    | Equivalent ufunc  | Description                         |\n",
        "|-------------|-------------------|-------------------------------------|\n",
        "|`+`          |`np.add`           |Addition (e.g., `1 + 1 = 2`)         |\n",
        "|`-`          |`np.subtract`      |Subtraction (e.g., `3 - 2 = 1`)      |\n",
        "|`-`          |`np.negative`      |Unary negation (e.g., `-2`)          |\n",
        "|`*`          |`np.multiply`      |Multiplication (e.g., `2 * 3 = 6`)   |\n",
        "|`/`          |`np.divide`        |Division (e.g., `3 / 2 = 1.5`)       |\n",
        "|`//`         |`np.floor_divide`  |Floor division (e.g., `3 // 2 = 1`)  |\n",
        "|`**`         |`np.power`         |Exponentiation (e.g., `2 ** 3 = 8`)  |\n",
        "|`%`          |`np.mod`           |Modulus/remainder (e.g., `9 % 4 = 1`)|\n",
        "\n",
        "Additionally, there are Boolean/bitwise operators; we will explore these in [Comparisons, Masks, and Boolean Logic](02.06-Boolean-Arrays-and-Masks.ipynb)."
      ]
    },
    {
      "cell_type": "markdown",
      "metadata": {
        "id": "kIDGbMkI2q_J"
      },
      "source": [
        "### Absolute Value\n",
        "\n",
        "Just as NumPy understands Python's built-in arithmetic operators, it also understands Python's built-in absolute value function:"
      ]
    },
    {
      "cell_type": "code",
      "execution_count": null,
      "metadata": {
        "jupyter": {
          "outputs_hidden": false
        },
        "id": "-GdZj5WR2q_J",
        "outputId": "ed9912c9-41c3-4a08-ea3c-80f99a3d9198",
        "colab": {
          "base_uri": "https://localhost:8080/",
          "height": 88
        }
      },
      "outputs": [
        {
          "output_type": "execute_result",
          "data": {
            "text/plain": [
              "'A função abs(x) calcula o valor absoluto de cada elemento do array x. O valor absoluto de um número é a sua distância até o zero na reta numérica, ou seja:\\n\\nPara números positivos, o valor absoluto é o próprio número.\\n\\nPara números negativos, o valor absoluto é o número sem o sinal negativo.\\n\\nPara zero, o valor absoluto é zero.'"
            ],
            "application/vnd.google.colaboratory.intrinsic+json": {
              "type": "string"
            }
          },
          "metadata": {},
          "execution_count": 14
        }
      ],
      "source": [
        "x = np.array([-2, -1, 0, 1, 2])\n",
        "abs(x)\n",
        "'''A função abs(x) calcula o valor absoluto de cada elemento do array x. O valor absoluto de um número é a sua distância até o zero na reta numérica, ou seja:\n",
        "\n",
        "Para números positivos, o valor absoluto é o próprio número.\n",
        "\n",
        "Para números negativos, o valor absoluto é o número sem o sinal negativo.\n",
        "\n",
        "Para zero, o valor absoluto é zero.'''"
      ]
    },
    {
      "cell_type": "markdown",
      "metadata": {
        "id": "H1mLUjaN2q_K"
      },
      "source": [
        "The corresponding NumPy ufunc is `np.absolute`, which is also available under the alias `np.abs`:"
      ]
    },
    {
      "cell_type": "code",
      "execution_count": null,
      "metadata": {
        "jupyter": {
          "outputs_hidden": false
        },
        "id": "TAHAhM4M2q_K",
        "outputId": "23882a1d-fbad-4edc-ca7e-73b6437e93ad"
      },
      "outputs": [
        {
          "data": {
            "text/plain": [
              "array([2, 1, 0, 1, 2])"
            ]
          },
          "execution_count": 12,
          "metadata": {},
          "output_type": "execute_result"
        }
      ],
      "source": [
        "np.absolute(x)"
      ]
    },
    {
      "cell_type": "code",
      "execution_count": null,
      "metadata": {
        "jupyter": {
          "outputs_hidden": false
        },
        "id": "78sNOunE2q_K",
        "outputId": "8f95ca18-af04-4670-a582-56b0ee690761"
      },
      "outputs": [
        {
          "data": {
            "text/plain": [
              "array([2, 1, 0, 1, 2])"
            ]
          },
          "execution_count": 13,
          "metadata": {},
          "output_type": "execute_result"
        }
      ],
      "source": [
        "np.abs(x)"
      ]
    },
    {
      "cell_type": "markdown",
      "metadata": {
        "id": "9dxtiFwt2q_K"
      },
      "source": [
        "This ufunc can also handle complex data, in which case it returns the magnitude:"
      ]
    },
    {
      "cell_type": "code",
      "execution_count": null,
      "metadata": {
        "jupyter": {
          "outputs_hidden": false
        },
        "id": "ucPMUJz02q_L",
        "outputId": "9e969fc2-3220-4bd6-e85f-e87ee1667bf7"
      },
      "outputs": [
        {
          "data": {
            "text/plain": [
              "array([5., 5., 2., 1.])"
            ]
          },
          "execution_count": 14,
          "metadata": {},
          "output_type": "execute_result"
        }
      ],
      "source": [
        "x = np.array([3 - 4j, 4 - 3j, 2 + 0j, 0 + 1j])\n",
        "np.abs(x)"
      ]
    },
    {
      "cell_type": "markdown",
      "metadata": {
        "id": "RYQpHr2P2q_L"
      },
      "source": [
        "### Trigonometric Functions\n",
        "\n",
        "NumPy provides a large number of useful ufuncs, and some of the most useful for the data scientist are the trigonometric functions.\n",
        "We'll start by defining an array of angles:"
      ]
    },
    {
      "cell_type": "code",
      "execution_count": null,
      "metadata": {
        "jupyter": {
          "outputs_hidden": false
        },
        "id": "dnlnmAEM2q_L"
      },
      "outputs": [],
      "source": [
        "theta = np.linspace(0, np.pi, 3)\n",
        "'''- A função `np.linspace()` cria um array com valores **igualmente espaçados** dentro de um intervalo especificado\n",
        "\n",
        "np.linspace(início, fim, número_de_elementos)\n",
        "- **`início`**: Valor inicial do intervalo.\n",
        "- **`fim`**: Valor final do intervalo.\n",
        "- **`número_de_elementos`**: Quantidade de elementos no array.'''"
      ]
    },
    {
      "cell_type": "markdown",
      "metadata": {
        "id": "JwZFhU0D2q_M"
      },
      "source": [
        "Now we can compute some trigonometric functions on these values:"
      ]
    },
    {
      "cell_type": "code",
      "execution_count": null,
      "metadata": {
        "jupyter": {
          "outputs_hidden": false
        },
        "id": "Xy1_8j302q_M",
        "outputId": "c02a3bab-0166-4eb6-c851-d11d84df9749",
        "colab": {
          "base_uri": "https://localhost:8080/"
        }
      },
      "outputs": [
        {
          "output_type": "stream",
          "name": "stdout",
          "text": [
            "theta      =  [0.         1.57079633 3.14159265]\n",
            "sin(theta) =  [0.0000000e+00 1.0000000e+00 1.2246468e-16]\n",
            "cos(theta) =  [ 1.000000e+00  6.123234e-17 -1.000000e+00]\n",
            "tan(theta) =  [ 0.00000000e+00  1.63312394e+16 -1.22464680e-16]\n"
          ]
        }
      ],
      "source": [
        "print(\"theta      = \", theta)\n",
        "print(\"sin(theta) = \", np.sin(theta))\n",
        "print(\"cos(theta) = \", np.cos(theta))\n",
        "print(\"tan(theta) = \", np.tan(theta))"
      ]
    },
    {
      "cell_type": "markdown",
      "metadata": {
        "id": "lApkUJbG2q_M"
      },
      "source": [
        "The values are computed to within machine precision, which is why values that should be zero do not always hit exactly zero.\n",
        "Inverse trigonometric functions are also available:"
      ]
    },
    {
      "cell_type": "code",
      "execution_count": null,
      "metadata": {
        "jupyter": {
          "outputs_hidden": false
        },
        "id": "lW47rYns2q_N",
        "outputId": "e569c228-5409-4bb4-b614-830e058fc023"
      },
      "outputs": [
        {
          "name": "stdout",
          "output_type": "stream",
          "text": [
            "x         =  [-1, 0, 1]\n",
            "arcsin(x) =  [-1.57079633  0.          1.57079633]\n",
            "arccos(x) =  [3.14159265 1.57079633 0.        ]\n",
            "arctan(x) =  [-0.78539816  0.          0.78539816]\n"
          ]
        }
      ],
      "source": [
        "x = [-1, 0, 1]\n",
        "print(\"x         = \", x)\n",
        "print(\"arcsin(x) = \", np.arcsin(x))\n",
        "print(\"arccos(x) = \", np.arccos(x))\n",
        "print(\"arctan(x) = \", np.arctan(x))"
      ]
    },
    {
      "cell_type": "markdown",
      "metadata": {
        "id": "abTjoxNW2q_W"
      },
      "source": [
        "### Exponents and Logarithms\n",
        "\n",
        "Other common operations available in NumPy ufuncs are the exponentials:"
      ]
    },
    {
      "cell_type": "code",
      "execution_count": null,
      "metadata": {
        "jupyter": {
          "outputs_hidden": false
        },
        "id": "laWXrocu2q_W",
        "outputId": "64889147-3c02-4494-d33e-515d42c83c5a"
      },
      "outputs": [
        {
          "name": "stdout",
          "output_type": "stream",
          "text": [
            "x   = [1, 2, 3]\n",
            "e^x = [ 2.71828183  7.3890561  20.08553692]\n",
            "2^x = [2. 4. 8.]\n",
            "3^x = [ 3.  9. 27.]\n"
          ]
        }
      ],
      "source": [
        "x = [1, 2, 3]\n",
        "print(\"x   =\", x)\n",
        "print(\"e^x =\", np.exp(x))\n",
        "#Calcula a exponencial natural (e^x) de cada elemento da lista, onde e é a constante de Euler (e≈2.71828).\n",
        "print(\"2^x =\", np.exp2(x))\n",
        "print(\"3^x =\", np.power(3., x))"
      ]
    },
    {
      "cell_type": "markdown",
      "metadata": {
        "id": "W9n3utwI2q_X"
      },
      "source": [
        "The inverse of the exponentials, the logarithms, are also available.\n",
        "The basic `np.log` gives the natural logarithm; if you prefer to compute the base-2 logarithm or the base-10 logarithm, these are available as well:"
      ]
    },
    {
      "cell_type": "code",
      "execution_count": null,
      "metadata": {
        "jupyter": {
          "outputs_hidden": false
        },
        "id": "uFqJAziw2q_X",
        "outputId": "5c34ee47-ee09-4db3-e46e-642028ad3c67"
      },
      "outputs": [
        {
          "name": "stdout",
          "output_type": "stream",
          "text": [
            "x        = [1, 2, 4, 10]\n",
            "ln(x)    = [0.         0.69314718 1.38629436 2.30258509]\n",
            "log2(x)  = [0.         1.         2.         3.32192809]\n",
            "log10(x) = [0.         0.30103    0.60205999 1.        ]\n"
          ]
        }
      ],
      "source": [
        "x = [1, 2, 4, 10]\n",
        "print(\"x        =\", x)\n",
        "print(\"ln(x)    =\", np.log(x))\n",
        "print(\"log2(x)  =\", np.log2(x))\n",
        "print(\"log10(x) =\", np.log10(x))"
      ]
    },
    {
      "cell_type": "markdown",
      "metadata": {
        "id": "bQJS_awR2q_X"
      },
      "source": [
        "There are also some specialized versions that are useful for maintaining precision with very small input:"
      ]
    },
    {
      "cell_type": "code",
      "execution_count": null,
      "metadata": {
        "jupyter": {
          "outputs_hidden": false
        },
        "id": "E-WJQL4A2q_X",
        "outputId": "da5a9715-bdd9-4775-97e5-5887e9ad74b9"
      },
      "outputs": [
        {
          "name": "stdout",
          "output_type": "stream",
          "text": [
            "exp(x) - 1 = [0.         0.0010005  0.01005017 0.10517092]\n",
            "log(1 + x) = [0.         0.0009995  0.00995033 0.09531018]\n"
          ]
        }
      ],
      "source": [
        "x = [0, 0.001, 0.01, 0.1]\n",
        "print(\"exp(x) - 1 =\", np.expm1(x))\n",
        "print(\"log(1 + x) =\", np.log1p(x))"
      ]
    },
    {
      "cell_type": "markdown",
      "metadata": {
        "id": "RXU1Cx0o2q_Y"
      },
      "source": [
        "When `x` is very small, these functions give more precise values than if the raw `np.log` or `np.exp` were to be used."
      ]
    },
    {
      "cell_type": "markdown",
      "metadata": {
        "id": "VMAvR52y2q_Y"
      },
      "source": [
        "### Specialized Ufuncs\n",
        "\n",
        "NumPy has many more ufuncs available, including for hyperbolic trigonometry, bitwise arithmetic, comparison operations, conversions from radians to degrees, rounding and remainders, and much more.\n",
        "A look through the NumPy documentation reveals a lot of interesting functionality.\n",
        "\n",
        "Another excellent source for more specialized ufuncs is the submodule `scipy.special`.\n",
        "If you want to compute some obscure mathematical function on your data, chances are it is implemented in `scipy.special`.\n",
        "There are far too many functions to list them all, but the following snippet shows a couple that might come up in a statistics context:"
      ]
    },
    {
      "cell_type": "code",
      "execution_count": null,
      "metadata": {
        "jupyter": {
          "outputs_hidden": false
        },
        "id": "JIbcCTqx2q_Y"
      },
      "outputs": [],
      "source": [
        "from scipy import special"
      ]
    },
    {
      "cell_type": "code",
      "execution_count": null,
      "metadata": {
        "jupyter": {
          "outputs_hidden": false
        },
        "id": "u7akIYT-2q_Y",
        "outputId": "2a60b2d6-ab28-47c6-8f57-fd9b7685fb11"
      },
      "outputs": [
        {
          "name": "stdout",
          "output_type": "stream",
          "text": [
            "gamma(x)     = [1.0000e+00 2.4000e+01 3.6288e+05]\n",
            "ln|gamma(x)| = [ 0.          3.17805383 12.80182748]\n",
            "beta(x, 2)   = [0.5        0.03333333 0.00909091]\n"
          ]
        }
      ],
      "source": [
        "# Gamma functions (generalized factorials) and related functions\n",
        "x = [1, 5, 10]\n",
        "print(\"gamma(x)     =\", special.gamma(x))\n",
        "print(\"ln|gamma(x)| =\", special.gammaln(x))\n",
        "print(\"beta(x, 2)   =\", special.beta(x, 2))"
      ]
    },
    {
      "cell_type": "code",
      "execution_count": null,
      "metadata": {
        "jupyter": {
          "outputs_hidden": false
        },
        "id": "TOMUBDn72q_Y",
        "outputId": "a28a3ca0-6c56-429b-9912-aa5a484828a3"
      },
      "outputs": [
        {
          "name": "stdout",
          "output_type": "stream",
          "text": [
            "erf(x)  = [0.         0.32862676 0.67780119 0.84270079]\n",
            "erfc(x) = [1.         0.67137324 0.32219881 0.15729921]\n",
            "erfinv(x) = [0.         0.27246271 0.73286908        inf]\n"
          ]
        }
      ],
      "source": [
        "# Error function (integral of Gaussian),\n",
        "# its complement, and its inverse\n",
        "x = np.array([0, 0.3, 0.7, 1.0])\n",
        "print(\"erf(x)  =\", special.erf(x))\n",
        "print(\"erfc(x) =\", special.erfc(x))\n",
        "print(\"erfinv(x) =\", special.erfinv(x))"
      ]
    },
    {
      "cell_type": "markdown",
      "metadata": {
        "id": "xvXAa8WV2q_Z"
      },
      "source": [
        "There are many, many more ufuncs available in both NumPy and `scipy.special`.\n",
        "Because the documentation of these packages is available online, a web search along the lines of \"gamma function python\" will generally find the relevant information."
      ]
    },
    {
      "cell_type": "markdown",
      "metadata": {
        "id": "iM2Xsh8t2q_Z"
      },
      "source": [
        "## Advanced Ufunc Features\n",
        "\n",
        "Many NumPy users make use of ufuncs without ever learning their full set of features.\n",
        "I'll outline a few specialized features of ufuncs here."
      ]
    },
    {
      "cell_type": "markdown",
      "metadata": {
        "id": "401bPy-M2q_Z"
      },
      "source": [
        "### Specifying Output\n",
        "\n",
        "For large calculations, it is sometimes useful to be able to specify the array where the result of the calculation will be stored.\n",
        "For all ufuncs, this can be done using the `out` argument of the function:"
      ]
    },
    {
      "cell_type": "code",
      "execution_count": null,
      "metadata": {
        "jupyter": {
          "outputs_hidden": false
        },
        "id": "g4ODC73s2q_a",
        "outputId": "dd49eece-a6a6-4957-c718-760da4cb1872"
      },
      "outputs": [
        {
          "name": "stdout",
          "output_type": "stream",
          "text": [
            "[ 0. 10. 20. 30. 40.]\n"
          ]
        }
      ],
      "source": [
        "x = np.arange(5)\n",
        "y = np.empty(5)\n",
        "np.multiply(x, 10, out=y)\n",
        "print(y)"
      ]
    },
    {
      "cell_type": "markdown",
      "metadata": {
        "id": "mZawlliz2q_a"
      },
      "source": [
        "This can even be used with array views. For example, we can write the results of a computation to every other element of a specified array:"
      ]
    },
    {
      "cell_type": "code",
      "execution_count": null,
      "metadata": {
        "jupyter": {
          "outputs_hidden": false
        },
        "id": "rWUDJ39Z2q_a",
        "outputId": "55af3d67-f100-4196-a273-7f9cf0550a12"
      },
      "outputs": [
        {
          "name": "stdout",
          "output_type": "stream",
          "text": [
            "[ 1.  0.  2.  0.  4.  0.  8.  0. 16.  0.]\n"
          ]
        }
      ],
      "source": [
        "y = np.zeros(10) #Cria um array de tamanho 10 preenchido com zeros\n",
        "np.power(2, x, out=y[::2]) # eleva 2 à potência de cada elemento de x\n",
        "print(y)"
      ]
    },
    {
      "cell_type": "markdown",
      "metadata": {
        "id": "nZNxfJOo2q_a"
      },
      "source": [
        "If we had instead written `y[::2] = 2 ** x`, this would have resulted in the creation of a temporary array to hold the results of `2 ** x`, followed by a second operation copying those values into the `y` array.\n",
        "This doesn't make much of a difference for such a small computation, but for very large arrays the memory savings from careful use of the `out` argument can be significant."
      ]
    },
    {
      "cell_type": "markdown",
      "metadata": {
        "id": "Cvnx1s1H2q_b"
      },
      "source": [
        "### Aggregations\n",
        "\n",
        "For binary ufuncs, aggregations can be computed directly from the object.\n",
        "For example, if we'd like to *reduce* an array with a particular operation, we can use the `reduce` method of any ufunc.\n",
        "A reduce repeatedly applies a given operation to the elements of an array until only a single result remains.\n",
        "\n",
        "For example, calling `reduce` on the `add` ufunc returns the sum of all elements in the array:"
      ]
    },
    {
      "cell_type": "code",
      "execution_count": null,
      "metadata": {
        "jupyter": {
          "outputs_hidden": false
        },
        "id": "ps4uOLUX2q_b",
        "outputId": "4e501951-8be4-402b-cae3-08a5f419e9e8"
      },
      "outputs": [
        {
          "data": {
            "text/plain": [
              "15"
            ]
          },
          "execution_count": 26,
          "metadata": {},
          "output_type": "execute_result"
        }
      ],
      "source": [
        "x = np.arange(1, 6)\n",
        "np.add.reduce(x)"
      ]
    },
    {
      "cell_type": "markdown",
      "metadata": {
        "id": "chUZ0ptF2q_b"
      },
      "source": [
        "Similarly, calling `reduce` on the `multiply` ufunc results in the product of all array elements:"
      ]
    },
    {
      "cell_type": "code",
      "execution_count": null,
      "metadata": {
        "jupyter": {
          "outputs_hidden": false
        },
        "id": "U5lMLJU52q_b",
        "outputId": "28417e32-7446-4d3a-afcb-cd2c21a62c70"
      },
      "outputs": [
        {
          "data": {
            "text/plain": [
              "120"
            ]
          },
          "execution_count": 27,
          "metadata": {},
          "output_type": "execute_result"
        }
      ],
      "source": [
        "np.multiply.reduce(x)"
      ]
    },
    {
      "cell_type": "markdown",
      "metadata": {
        "id": "eh63kNXq2q_b"
      },
      "source": [
        "If we'd like to store all the intermediate results of the computation, we can instead use `accumulate`:"
      ]
    },
    {
      "cell_type": "code",
      "execution_count": null,
      "metadata": {
        "jupyter": {
          "outputs_hidden": false
        },
        "id": "_d5X4f7B2q_c",
        "outputId": "d965f795-8a29-4850-9ef3-5cbc12f80419"
      },
      "outputs": [
        {
          "data": {
            "text/plain": [
              "array([ 1,  3,  6, 10, 15])"
            ]
          },
          "execution_count": 28,
          "metadata": {},
          "output_type": "execute_result"
        }
      ],
      "source": [
        "np.add.accumulate(x)"
      ]
    },
    {
      "cell_type": "code",
      "execution_count": null,
      "metadata": {
        "jupyter": {
          "outputs_hidden": false
        },
        "id": "_YQCeynu2q_c",
        "outputId": "0738649f-fbc8-4e1c-e7f7-3fa6b1b9e891"
      },
      "outputs": [
        {
          "data": {
            "text/plain": [
              "array([  1,   2,   6,  24, 120])"
            ]
          },
          "execution_count": 29,
          "metadata": {},
          "output_type": "execute_result"
        }
      ],
      "source": [
        "np.multiply.accumulate(x)"
      ]
    },
    {
      "cell_type": "markdown",
      "metadata": {
        "id": "qwGzu2Cf2q_c"
      },
      "source": [
        "Note that for these particular cases, there are dedicated NumPy functions to compute the results (`np.sum`, `np.prod`, `np.cumsum`, `np.cumprod`), which we'll explore in [Aggregations: Min, Max, and Everything In Between](02.04-Computation-on-arrays-aggregates.ipynb)."
      ]
    },
    {
      "cell_type": "markdown",
      "metadata": {
        "id": "1KimYaVR2q_c"
      },
      "source": [
        "### Outer Products\n",
        "\n",
        "Finally, any ufunc can compute the output of all pairs of two different inputs using the `outer` method.\n",
        "This allows you, in one line, to do things like create a multiplication table:"
      ]
    },
    {
      "cell_type": "code",
      "execution_count": null,
      "metadata": {
        "jupyter": {
          "outputs_hidden": false
        },
        "scrolled": true,
        "id": "gvo7FsJv2q_c",
        "outputId": "2ac71dcb-fe0d-4f5d-d74a-a81f324d3ead"
      },
      "outputs": [
        {
          "data": {
            "text/plain": [
              "array([[ 1,  2,  3,  4,  5],\n",
              "       [ 2,  4,  6,  8, 10],\n",
              "       [ 3,  6,  9, 12, 15],\n",
              "       [ 4,  8, 12, 16, 20],\n",
              "       [ 5, 10, 15, 20, 25]])"
            ]
          },
          "execution_count": 30,
          "metadata": {},
          "output_type": "execute_result"
        }
      ],
      "source": [
        "x = np.arange(1, 6)\n",
        "np.multiply.outer(x, x)"
      ]
    },
    {
      "cell_type": "markdown",
      "metadata": {
        "id": "nskQNohf2q_d"
      },
      "source": [
        "The `ufunc.at` and `ufunc.reduceat` methods are useful as well, and we will explore them in [Fancy Indexing](02.07-Fancy-Indexing.ipynb).\n",
        "\n",
        "We will also encounter the ability of ufuncs to operate between arrays of different shapes and sizes, a set of operations known as *broadcasting*.\n",
        "This subject is important enough that we will devote a whole chapter to it (see [Computation on Arrays: Broadcasting](02.05-Computation-on-arrays-broadcasting.ipynb))."
      ]
    },
    {
      "cell_type": "markdown",
      "metadata": {
        "id": "0w_FaQqU2q_d"
      },
      "source": [
        "## Ufuncs: Learning More"
      ]
    },
    {
      "cell_type": "markdown",
      "metadata": {
        "id": "s5w7qim02q_d"
      },
      "source": [
        "More information on universal functions (including the full list of available functions) can be found on the [NumPy](http://www.numpy.org) and [SciPy](http://www.scipy.org) documentation websites.\n",
        "\n",
        "Recall that you can also access information directly from within IPython by importing the packages and using IPython's tab completion and help (`?`) functionality, as described in [Help and Documentation in IPython](01.01-Help-And-Documentation.ipynb)."
      ]
    }
  ],
  "metadata": {
    "anaconda-cloud": {},
    "jupytext": {
      "formats": "ipynb,md"
    },
    "kernelspec": {
      "display_name": "Python 3",
      "language": "python",
      "name": "python3"
    },
    "language_info": {
      "codemirror_mode": {
        "name": "ipython",
        "version": 3
      },
      "file_extension": ".py",
      "mimetype": "text/x-python",
      "name": "python",
      "nbconvert_exporter": "python",
      "pygments_lexer": "ipython3",
      "version": "3.9.2"
    },
    "colab": {
      "provenance": [],
      "include_colab_link": true
    }
  },
  "nbformat": 4,
  "nbformat_minor": 0
}