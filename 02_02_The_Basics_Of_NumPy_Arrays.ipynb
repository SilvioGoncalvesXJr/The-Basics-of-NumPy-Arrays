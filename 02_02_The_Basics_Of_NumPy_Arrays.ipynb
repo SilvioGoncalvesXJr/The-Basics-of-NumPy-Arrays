{
  "cells": [
    {
      "cell_type": "markdown",
      "metadata": {
        "id": "view-in-github",
        "colab_type": "text"
      },
      "source": [
        "<a href=\"https://colab.research.google.com/github/SilvioGoncalvesXJr/The-Basics-of-NumPy-Arrays/blob/main/C%C3%B3pia_de_02_02_The_Basics_Of_NumPy_Arrays.ipynb\" target=\"_parent\"><img src=\"https://colab.research.google.com/assets/colab-badge.svg\" alt=\"Open In Colab\"/></a>"
      ]
    },
    {
      "cell_type": "markdown",
      "metadata": {
        "id": "tGmQIese3RRb"
      },
      "source": [
        "# The Basics of NumPy Arrays"
      ]
    },
    {
      "cell_type": "markdown",
      "metadata": {
        "id": "VYXmdi0E3RRh"
      },
      "source": [
        "Data manipulation in Python is nearly synonymous with NumPy array manipulation: even newer tools like Pandas ([Part 3](03.00-Introduction-to-Pandas.ipynb)) are built around the NumPy array.\n",
        "This chapter will present several examples of using NumPy array manipulation to access data and subarrays, and to split, reshape, and join the arrays.\n",
        "While the types of operations shown here may seem a bit dry and pedantic, they comprise the building blocks of many other examples used throughout the book.\n",
        "Get to know them well!\n",
        "\n",
        "We'll cover a few categories of basic array manipulations here:\n",
        "\n",
        "- *Attributes of arrays*: Determining the size, shape, memory consumption, and data types of arrays\n",
        "- *Indexing of arrays*: Getting and setting the values of individual array elements\n",
        "- *Slicing of arrays*: Getting and setting smaller subarrays within a larger array\n",
        "- *Reshaping of arrays*: Changing the shape of a given array\n",
        "- *Joining and splitting of arrays*: Combining multiple arrays into one, and splitting one array into many"
      ]
    },
    {
      "cell_type": "markdown",
      "metadata": {
        "id": "uQS6H5eY3RRk"
      },
      "source": [
        "## NumPy Array Attributes"
      ]
    },
    {
      "cell_type": "markdown",
      "metadata": {
        "id": "8ElAGCQy3RRl"
      },
      "source": [
        "First let's discuss some useful array attributes.\n",
        "We'll start by defining random arrays of one, two, and three dimensions.\n",
        "We'll use NumPy's random number generator, which we will *seed* with a set value in order to ensure that the same random arrays are generated each time this code is run:"
      ]
    },
    {
      "cell_type": "code",
      "execution_count": null,
      "metadata": {
        "jupyter": {
          "outputs_hidden": false
        },
        "id": "-wYZTF3G3RRm"
      },
      "outputs": [],
      "source": [
        "import numpy as np\n",
        "rng = np.random.default_rng(seed=1701)  # seed for reproducibility\n",
        "\n",
        "x1 = rng.integers(10, size=6)  # one-dimensional array\n",
        "x2 = rng.integers(10, size=(3, 4))  # two-dimensional array\n",
        "x3 = rng.integers(10, size=(3, 4, 5))  # three-dimensional array"
      ]
    },
    {
      "cell_type": "markdown",
      "metadata": {
        "id": "QLVDUkdR3RRp"
      },
      "source": [
        "Each array has attributes including `ndim` (the number of dimensions), `shape` (the size of each dimension), `size` (the total size of the array), and `dtype` (the type of each element):"
      ]
    },
    {
      "cell_type": "code",
      "execution_count": null,
      "metadata": {
        "jupyter": {
          "outputs_hidden": false
        },
        "id": "LXVIRIEQ3RRq",
        "outputId": "2e9ad2cd-31ce-4e3a-a779-5f4b5c3f077d",
        "colab": {
          "base_uri": "https://localhost:8080/"
        }
      },
      "outputs": [
        {
          "output_type": "stream",
          "name": "stdout",
          "text": [
            "x1 ndim:  1\n",
            "x1 shape: (6,)\n",
            "x1 size:  6\n",
            "dtype:    int64\n",
            "\n",
            "x2 ndim:  2\n",
            "x2 shape: (3, 4)\n",
            "x2 size:  12\n",
            "dtype:    int64\n",
            "\n",
            "x3 ndim:  3\n",
            "x3 shape: (3, 4, 5)\n",
            "x3 size:  60\n",
            "dtype:    int64\n"
          ]
        }
      ],
      "source": [
        "print(\"x1 ndim: \", x1.ndim)\n",
        "print(\"x1 shape:\", x1.shape)\n",
        "print(\"x1 size: \", x1.size)\n",
        "print(\"dtype:   \", x1.dtype)\n",
        "print()\n",
        "print(\"x2 ndim: \", x2.ndim)\n",
        "print(\"x2 shape:\", x2.shape)\n",
        "print(\"x2 size: \", x2.size)\n",
        "print(\"dtype:   \", x2.dtype)\n",
        "print()\n",
        "print(\"x3 ndim: \", x3.ndim)\n",
        "print(\"x3 shape:\", x3.shape)\n",
        "print(\"x3 size: \", x3.size)\n",
        "print(\"dtype:   \", x3.dtype)"
      ]
    },
    {
      "cell_type": "markdown",
      "metadata": {
        "id": "Pquv2-6l3RRs"
      },
      "source": [
        "For more discussion of data types, see [Understanding Data Types in Python](02.01-Understanding-Data-Types.ipynb)."
      ]
    },
    {
      "cell_type": "markdown",
      "metadata": {
        "id": "y4hJSWie3RRt"
      },
      "source": [
        "## Array Indexing: Accessing Single Elements"
      ]
    },
    {
      "cell_type": "markdown",
      "metadata": {
        "id": "pxBayk9N3RRt"
      },
      "source": [
        "If you are familiar with Python's standard list indexing, indexing in NumPy will feel quite familiar.\n",
        "In a one-dimensional array, the $i^{th}$ value (counting from zero) can be accessed by specifying the desired index in square brackets, just as with Python lists:"
      ]
    },
    {
      "cell_type": "code",
      "execution_count": null,
      "metadata": {
        "jupyter": {
          "outputs_hidden": false
        },
        "id": "azk2MR9R3RRu",
        "outputId": "d1bac415-b921-4af7-cb9e-e8ce8a4a4491",
        "colab": {
          "base_uri": "https://localhost:8080/"
        }
      },
      "outputs": [
        {
          "output_type": "execute_result",
          "data": {
            "text/plain": [
              "array([9, 4, 0, 3, 8, 6])"
            ]
          },
          "metadata": {},
          "execution_count": 5
        }
      ],
      "source": [
        "x1"
      ]
    },
    {
      "cell_type": "code",
      "execution_count": null,
      "metadata": {
        "jupyter": {
          "outputs_hidden": false
        },
        "id": "IZhPBvil3RRu",
        "outputId": "2f31add3-5d31-4caa-bdd7-882c0b597064",
        "colab": {
          "base_uri": "https://localhost:8080/"
        }
      },
      "outputs": [
        {
          "output_type": "execute_result",
          "data": {
            "text/plain": [
              "9"
            ]
          },
          "metadata": {},
          "execution_count": 6
        }
      ],
      "source": [
        "x1[0]"
      ]
    },
    {
      "cell_type": "code",
      "execution_count": null,
      "metadata": {
        "jupyter": {
          "outputs_hidden": false
        },
        "id": "h1-xVTBE3RRv",
        "outputId": "9a29f0f0-0650-49fe-aba6-f245ea0dc548",
        "colab": {
          "base_uri": "https://localhost:8080/"
        }
      },
      "outputs": [
        {
          "output_type": "execute_result",
          "data": {
            "text/plain": [
              "8"
            ]
          },
          "metadata": {},
          "execution_count": 7
        }
      ],
      "source": [
        "x1[4]"
      ]
    },
    {
      "cell_type": "markdown",
      "metadata": {
        "id": "GiERBus-3RRv"
      },
      "source": [
        "To index from the end of the array, you can use negative indices:"
      ]
    },
    {
      "cell_type": "code",
      "execution_count": null,
      "metadata": {
        "jupyter": {
          "outputs_hidden": false
        },
        "id": "RhyGnBL83RRw",
        "outputId": "fe1f7e45-442b-4c25-d825-6493b2f4b98e"
      },
      "outputs": [
        {
          "data": {
            "text/plain": [
              "6"
            ]
          },
          "execution_count": 6,
          "metadata": {},
          "output_type": "execute_result"
        }
      ],
      "source": [
        "x1[-1]"
      ]
    },
    {
      "cell_type": "code",
      "execution_count": null,
      "metadata": {
        "jupyter": {
          "outputs_hidden": false
        },
        "id": "gHrjOJuQ3RRw",
        "outputId": "c34f02d3-dff5-4079-8357-8d02a57fbb6d"
      },
      "outputs": [
        {
          "data": {
            "text/plain": [
              "8"
            ]
          },
          "execution_count": 7,
          "metadata": {},
          "output_type": "execute_result"
        }
      ],
      "source": [
        "x1[-2]"
      ]
    },
    {
      "cell_type": "markdown",
      "metadata": {
        "id": "uchTsvia3RRw"
      },
      "source": [
        "In a multidimensional array, items can be accessed using a comma-separated `(row, column)` tuple:"
      ]
    },
    {
      "cell_type": "code",
      "execution_count": null,
      "metadata": {
        "jupyter": {
          "outputs_hidden": false
        },
        "id": "Q1_ucrbc3RRx",
        "outputId": "23c9bf94-4943-4cac-c985-ac64d2c6d649",
        "colab": {
          "base_uri": "https://localhost:8080/"
        }
      },
      "outputs": [
        {
          "output_type": "execute_result",
          "data": {
            "text/plain": [
              "array([[3, 1, 3, 7],\n",
              "       [4, 0, 2, 3],\n",
              "       [0, 0, 6, 9]])"
            ]
          },
          "metadata": {},
          "execution_count": 15
        }
      ],
      "source": [
        "x2\n"
      ]
    },
    {
      "cell_type": "code",
      "source": [
        "x3"
      ],
      "metadata": {
        "colab": {
          "base_uri": "https://localhost:8080/"
        },
        "id": "n2LUT3bt8E3f",
        "outputId": "2e21f9a1-485b-4b30-b444-b14778b1315e"
      },
      "execution_count": null,
      "outputs": [
        {
          "output_type": "execute_result",
          "data": {
            "text/plain": [
              "array([[[4, 3, 5, 5, 0],\n",
              "        [8, 3, 5, 2, 2],\n",
              "        [1, 8, 8, 5, 3],\n",
              "        [0, 0, 8, 5, 8]],\n",
              "\n",
              "       [[5, 1, 6, 2, 3],\n",
              "        [1, 2, 5, 6, 2],\n",
              "        [5, 2, 7, 9, 3],\n",
              "        [5, 6, 0, 2, 0]],\n",
              "\n",
              "       [[2, 9, 4, 3, 9],\n",
              "        [9, 2, 2, 4, 0],\n",
              "        [0, 3, 0, 0, 2],\n",
              "        [3, 2, 7, 4, 7]]])"
            ]
          },
          "metadata": {},
          "execution_count": 14
        }
      ]
    },
    {
      "cell_type": "code",
      "execution_count": null,
      "metadata": {
        "jupyter": {
          "outputs_hidden": false
        },
        "id": "yg80ChLR3RRx",
        "outputId": "a4b923da-c082-48fe-e8f7-ae129c7f91f8"
      },
      "outputs": [
        {
          "data": {
            "text/plain": [
              "3"
            ]
          },
          "execution_count": 9,
          "metadata": {},
          "output_type": "execute_result"
        }
      ],
      "source": [
        "x2[0, 0]"
      ]
    },
    {
      "cell_type": "code",
      "execution_count": null,
      "metadata": {
        "jupyter": {
          "outputs_hidden": false
        },
        "id": "nxluuv_n3RRy",
        "outputId": "429480c2-55b7-413d-cff7-8ba7667bdccb"
      },
      "outputs": [
        {
          "data": {
            "text/plain": [
              "0"
            ]
          },
          "execution_count": 10,
          "metadata": {},
          "output_type": "execute_result"
        }
      ],
      "source": [
        "x2[2, 0]"
      ]
    },
    {
      "cell_type": "code",
      "execution_count": null,
      "metadata": {
        "jupyter": {
          "outputs_hidden": false
        },
        "id": "D4i47VBr3RRy",
        "outputId": "ff49ed75-201e-4160-8891-7a1da17e42b6"
      },
      "outputs": [
        {
          "data": {
            "text/plain": [
              "9"
            ]
          },
          "execution_count": 11,
          "metadata": {},
          "output_type": "execute_result"
        }
      ],
      "source": [
        "x2[2, -1]"
      ]
    },
    {
      "cell_type": "markdown",
      "metadata": {
        "id": "U8BntVvM3RRz"
      },
      "source": [
        "Values can also be modified using any of the preceding index notation:"
      ]
    },
    {
      "cell_type": "code",
      "execution_count": null,
      "metadata": {
        "jupyter": {
          "outputs_hidden": false
        },
        "id": "l9F4KqXg3RRz",
        "outputId": "487bf8b2-5d9b-47b8-baea-588aba59edf3"
      },
      "outputs": [
        {
          "data": {
            "text/plain": [
              "array([[12,  1,  3,  7],\n",
              "       [ 4,  0,  2,  3],\n",
              "       [ 0,  0,  6,  9]])"
            ]
          },
          "execution_count": 12,
          "metadata": {},
          "output_type": "execute_result"
        }
      ],
      "source": [
        "x2[0, 0] = 12\n",
        "x2"
      ]
    },
    {
      "cell_type": "markdown",
      "metadata": {
        "id": "q3OkE5TN3RRz"
      },
      "source": [
        "Keep in mind that, unlike Python lists, NumPy arrays have a fixed type.\n",
        "This means, for example, that if you attempt to insert a floating-point value into an integer array, the value will be silently truncated. Don't be caught unaware by this behavior!"
      ]
    },
    {
      "cell_type": "code",
      "execution_count": null,
      "metadata": {
        "jupyter": {
          "outputs_hidden": false
        },
        "id": "noKUjjXD3RR0",
        "outputId": "570d29b9-8929-4f5a-a612-5bc2b942d860",
        "colab": {
          "base_uri": "https://localhost:8080/"
        }
      },
      "outputs": [
        {
          "output_type": "execute_result",
          "data": {
            "text/plain": [
              "array([3, 4, 0, 3, 8, 6])"
            ]
          },
          "metadata": {},
          "execution_count": 16
        }
      ],
      "source": [
        "x1[0] = 3.14159  # this will be truncated!\n",
        "x1"
      ]
    },
    {
      "cell_type": "markdown",
      "metadata": {
        "id": "BVy07SjR3RR0"
      },
      "source": [
        "## Array Slicing: Accessing Subarrays"
      ]
    },
    {
      "cell_type": "markdown",
      "metadata": {
        "id": "QBQCZF5G3RR0"
      },
      "source": [
        "Just as we can use square brackets to access individual array elements, we can also use them to access subarrays with the *slice* notation, marked by the colon (`:`) character.\n",
        "The NumPy slicing syntax follows that of the standard Python list; to access a slice of an array `x`, use this:\n",
        "``` python\n",
        "x[start:stop:step]\n",
        "```\n",
        "If any of these are unspecified, they default to the values `start=0`, `stop=<size of dimension>`, `step=1`.\n",
        "Let's look at some examples of accessing subarrays in one dimension and in multiple dimensions."
      ]
    },
    {
      "cell_type": "markdown",
      "metadata": {
        "id": "13OPfqZk3RR0"
      },
      "source": [
        "### One-Dimensional Subarrays\n",
        "\n",
        "Here are some examples of accessing elements in one-dimensional subarrays:"
      ]
    },
    {
      "cell_type": "code",
      "execution_count": null,
      "metadata": {
        "jupyter": {
          "outputs_hidden": false
        },
        "id": "m-VCkiim3RR1",
        "outputId": "492354e6-40ce-470f-a80d-7b8cec89b3ed"
      },
      "outputs": [
        {
          "data": {
            "text/plain": [
              "array([3, 4, 0, 3, 8, 6])"
            ]
          },
          "execution_count": 14,
          "metadata": {},
          "output_type": "execute_result"
        }
      ],
      "source": [
        "x1"
      ]
    },
    {
      "cell_type": "code",
      "execution_count": null,
      "metadata": {
        "jupyter": {
          "outputs_hidden": false
        },
        "id": "vhfV7t713RR1",
        "outputId": "9aaa220e-ee39-489c-ed73-e64945a66725"
      },
      "outputs": [
        {
          "data": {
            "text/plain": [
              "array([3, 4, 0])"
            ]
          },
          "execution_count": 15,
          "metadata": {},
          "output_type": "execute_result"
        }
      ],
      "source": [
        "x1[:3]  # first three elements"
      ]
    },
    {
      "cell_type": "code",
      "execution_count": null,
      "metadata": {
        "jupyter": {
          "outputs_hidden": false
        },
        "id": "QJ-qCx193RR2",
        "outputId": "b6fc8288-5ee2-40b3-d4bc-bcec8c95e5a4"
      },
      "outputs": [
        {
          "data": {
            "text/plain": [
              "array([3, 8, 6])"
            ]
          },
          "execution_count": 16,
          "metadata": {},
          "output_type": "execute_result"
        }
      ],
      "source": [
        "x1[3:]  # elements after index 3"
      ]
    },
    {
      "cell_type": "code",
      "execution_count": null,
      "metadata": {
        "jupyter": {
          "outputs_hidden": false
        },
        "id": "9KG_8lfK3RR2",
        "outputId": "3282869f-eaf4-4ab1-c82d-ea17121dab89"
      },
      "outputs": [
        {
          "data": {
            "text/plain": [
              "array([4, 0, 3])"
            ]
          },
          "execution_count": 17,
          "metadata": {},
          "output_type": "execute_result"
        }
      ],
      "source": [
        "x1[1:4]  # middle subarray"
      ]
    },
    {
      "cell_type": "code",
      "execution_count": null,
      "metadata": {
        "jupyter": {
          "outputs_hidden": false
        },
        "id": "Z0-V32Ap3RR2",
        "outputId": "84606565-0848-49a2-924c-8c63f5b4f9c4"
      },
      "outputs": [
        {
          "data": {
            "text/plain": [
              "array([3, 0, 8])"
            ]
          },
          "execution_count": 18,
          "metadata": {},
          "output_type": "execute_result"
        }
      ],
      "source": [
        "x1[::2]  # every second element"
      ]
    },
    {
      "cell_type": "code",
      "execution_count": null,
      "metadata": {
        "jupyter": {
          "outputs_hidden": false
        },
        "id": "3Vw8JO-L3RR3",
        "outputId": "ca83929d-5f36-4d97-b004-5dc8f4458ab3"
      },
      "outputs": [
        {
          "data": {
            "text/plain": [
              "array([4, 3, 6])"
            ]
          },
          "execution_count": 19,
          "metadata": {},
          "output_type": "execute_result"
        }
      ],
      "source": [
        "x1[1::2]  # every second element, starting at index 1"
      ]
    },
    {
      "cell_type": "markdown",
      "metadata": {
        "id": "yLAY0P683RR4"
      },
      "source": [
        "A potentially confusing case is when the `step` value is negative.\n",
        "In this case, the defaults for `start` and `stop` are swapped.\n",
        "This becomes a convenient way to reverse an array:"
      ]
    },
    {
      "cell_type": "code",
      "execution_count": null,
      "metadata": {
        "jupyter": {
          "outputs_hidden": false
        },
        "id": "tc2G-qH73RR4",
        "outputId": "0711aee3-00fd-43d4-cf29-1bfa0b2d1a6b"
      },
      "outputs": [
        {
          "data": {
            "text/plain": [
              "array([6, 8, 3, 0, 4, 3])"
            ]
          },
          "execution_count": 20,
          "metadata": {},
          "output_type": "execute_result"
        }
      ],
      "source": [
        "x1[::-1]  # all elements, reversed"
      ]
    },
    {
      "cell_type": "code",
      "execution_count": null,
      "metadata": {
        "jupyter": {
          "outputs_hidden": false
        },
        "id": "GGoaOSWS3RR4",
        "outputId": "3321a97e-d5e6-4a41-c4d3-525184da84f3"
      },
      "outputs": [
        {
          "data": {
            "text/plain": [
              "array([8, 0, 3])"
            ]
          },
          "execution_count": 21,
          "metadata": {},
          "output_type": "execute_result"
        }
      ],
      "source": [
        "x1[4::-2]  # every second element from index 4, reversed"
      ]
    },
    {
      "cell_type": "markdown",
      "metadata": {
        "id": "vJlMBGk13RR5"
      },
      "source": [
        "### Multidimensional Subarrays\n",
        "\n",
        "Multidimensional slices work in the same way, with multiple slices separated by commas.\n",
        "For example:"
      ]
    },
    {
      "cell_type": "code",
      "execution_count": null,
      "metadata": {
        "jupyter": {
          "outputs_hidden": false
        },
        "id": "H7ynuzIT3RR5",
        "outputId": "aa463521-c28d-467e-d47f-d2a84f66cfc8"
      },
      "outputs": [
        {
          "data": {
            "text/plain": [
              "array([[12,  1,  3,  7],\n",
              "       [ 4,  0,  2,  3],\n",
              "       [ 0,  0,  6,  9]])"
            ]
          },
          "execution_count": 22,
          "metadata": {},
          "output_type": "execute_result"
        }
      ],
      "source": [
        "x2"
      ]
    },
    {
      "cell_type": "code",
      "execution_count": null,
      "metadata": {
        "jupyter": {
          "outputs_hidden": false
        },
        "id": "K4v1gju33RSF",
        "outputId": "6108c588-4ec9-4a0a-bf8a-2a822615ae4d"
      },
      "outputs": [
        {
          "data": {
            "text/plain": [
              "array([[12,  1,  3],\n",
              "       [ 4,  0,  2]])"
            ]
          },
          "execution_count": 23,
          "metadata": {},
          "output_type": "execute_result"
        }
      ],
      "source": [
        "x2[:2, :3]  # first two rows & three columns"
      ]
    },
    {
      "cell_type": "code",
      "execution_count": null,
      "metadata": {
        "jupyter": {
          "outputs_hidden": false
        },
        "id": "GF2LeJIW3RSG",
        "outputId": "85daaf7d-e71c-49b9-dd1a-ee594e89b783"
      },
      "outputs": [
        {
          "data": {
            "text/plain": [
              "array([[12,  3],\n",
              "       [ 4,  2],\n",
              "       [ 0,  6]])"
            ]
          },
          "execution_count": 24,
          "metadata": {},
          "output_type": "execute_result"
        }
      ],
      "source": [
        "x2[:3, ::2]  # three rows, every second column"
      ]
    },
    {
      "cell_type": "code",
      "execution_count": null,
      "metadata": {
        "jupyter": {
          "outputs_hidden": false
        },
        "id": "6LAcC7qu3RSH",
        "outputId": "472504ae-0673-4b69-b3d7-7db12ed33e02"
      },
      "outputs": [
        {
          "data": {
            "text/plain": [
              "array([[ 9,  6,  0,  0],\n",
              "       [ 3,  2,  0,  4],\n",
              "       [ 7,  3,  1, 12]])"
            ]
          },
          "execution_count": 25,
          "metadata": {},
          "output_type": "execute_result"
        }
      ],
      "source": [
        "x2[::-1, ::-1]  # all rows & columns, reversed"
      ]
    },
    {
      "cell_type": "markdown",
      "metadata": {
        "id": "Y05FES8O3RSH"
      },
      "source": [
        "#### Accessing array rows and columns\n",
        "\n",
        "One commonly needed routine is accessing single rows or columns of an array.\n",
        "This can be done by combining indexing and slicing, using an empty slice marked by a single colon (`:`):"
      ]
    },
    {
      "cell_type": "code",
      "execution_count": null,
      "metadata": {
        "jupyter": {
          "outputs_hidden": false
        },
        "id": "inhjpWne3RSI",
        "outputId": "75ac348c-21be-479f-a4c6-2d1319b4b4b4"
      },
      "outputs": [
        {
          "data": {
            "text/plain": [
              "array([12,  4,  0])"
            ]
          },
          "execution_count": 26,
          "metadata": {},
          "output_type": "execute_result"
        }
      ],
      "source": [
        "x2[:, 0]  # first column of x2"
      ]
    },
    {
      "cell_type": "code",
      "execution_count": null,
      "metadata": {
        "jupyter": {
          "outputs_hidden": false
        },
        "id": "-fAp1Mj93RSI",
        "outputId": "ce53e23d-b714-4c75-8be5-239439970efe"
      },
      "outputs": [
        {
          "data": {
            "text/plain": [
              "array([12,  1,  3,  7])"
            ]
          },
          "execution_count": 27,
          "metadata": {},
          "output_type": "execute_result"
        }
      ],
      "source": [
        "x2[0, :]  # first row of x2"
      ]
    },
    {
      "cell_type": "markdown",
      "metadata": {
        "id": "tei03w-s3RSJ"
      },
      "source": [
        "In the case of row access, the empty slice can be omitted for a more compact syntax:"
      ]
    },
    {
      "cell_type": "code",
      "execution_count": null,
      "metadata": {
        "jupyter": {
          "outputs_hidden": false
        },
        "id": "0jMpwLJw3RSJ",
        "outputId": "019ab0e6-96b7-4746-d8cf-fb178dbb88e0"
      },
      "outputs": [
        {
          "data": {
            "text/plain": [
              "array([12,  1,  3,  7])"
            ]
          },
          "execution_count": 28,
          "metadata": {},
          "output_type": "execute_result"
        }
      ],
      "source": [
        "x2[0]  # equivalent to x2[0, :]"
      ]
    },
    {
      "cell_type": "markdown",
      "metadata": {
        "id": "bLpjNMwS3RSJ"
      },
      "source": [
        "### Subarrays as No-Copy Views\n",
        "\n",
        "Unlike Python list slices, NumPy array slices are returned as *views* rather than *copies* of the array data.\n",
        "Consider our two-dimensional array from before:"
      ]
    },
    {
      "cell_type": "code",
      "execution_count": null,
      "metadata": {
        "jupyter": {
          "outputs_hidden": false
        },
        "id": "qBYowdqi3RSJ",
        "outputId": "9b31d751-6b53-4c13-8e9c-2da1d6f1a8ab"
      },
      "outputs": [
        {
          "name": "stdout",
          "output_type": "stream",
          "text": [
            "[[12  1  3  7]\n",
            " [ 4  0  2  3]\n",
            " [ 0  0  6  9]]\n"
          ]
        }
      ],
      "source": [
        "print(x2)"
      ]
    },
    {
      "cell_type": "markdown",
      "metadata": {
        "id": "WD9t4kzy3RSK"
      },
      "source": [
        "Let's extract a $2 \\times 2$ subarray from this:"
      ]
    },
    {
      "cell_type": "code",
      "execution_count": null,
      "metadata": {
        "jupyter": {
          "outputs_hidden": false
        },
        "id": "VRmFyW7g3RSK",
        "outputId": "e7a62f1b-5560-44a5-d8f3-ed7904492b1c"
      },
      "outputs": [
        {
          "name": "stdout",
          "output_type": "stream",
          "text": [
            "[[12  1]\n",
            " [ 4  0]]\n"
          ]
        }
      ],
      "source": [
        "x2_sub = x2[:2, :2]\n",
        "print(x2_sub)"
      ]
    },
    {
      "cell_type": "markdown",
      "metadata": {
        "id": "DhKNpWC83RSK"
      },
      "source": [
        "Now if we modify this subarray, we'll see that the original array is changed! Observe:"
      ]
    },
    {
      "cell_type": "code",
      "execution_count": null,
      "metadata": {
        "jupyter": {
          "outputs_hidden": false
        },
        "id": "KHu3M6HP3RSK",
        "outputId": "f705671d-d286-43a2-df7a-4937cfae0e82"
      },
      "outputs": [
        {
          "name": "stdout",
          "output_type": "stream",
          "text": [
            "[[99  1]\n",
            " [ 4  0]]\n"
          ]
        }
      ],
      "source": [
        "x2_sub[0, 0] = 99\n",
        "print(x2_sub)"
      ]
    },
    {
      "cell_type": "code",
      "execution_count": null,
      "metadata": {
        "jupyter": {
          "outputs_hidden": false
        },
        "id": "oudDmomP3RSL",
        "outputId": "f3b96333-b348-4acd-c740-256e3b402423"
      },
      "outputs": [
        {
          "name": "stdout",
          "output_type": "stream",
          "text": [
            "[[99  1  3  7]\n",
            " [ 4  0  2  3]\n",
            " [ 0  0  6  9]]\n"
          ]
        }
      ],
      "source": [
        "print(x2)"
      ]
    },
    {
      "cell_type": "markdown",
      "metadata": {
        "id": "qYr2Ml423RSL"
      },
      "source": [
        "Some users may find this surprising, but it can be advantageous: for example, when working with large datasets, we can access and process pieces of these datasets without the need to copy the underlying data buffer."
      ]
    },
    {
      "cell_type": "markdown",
      "metadata": {
        "id": "AYFUuIN73RSL"
      },
      "source": [
        "### Creating Copies of Arrays\n",
        "\n",
        "Despite the nice features of array views, it is sometimes useful to instead explicitly copy the data within an array or a subarray. This can be most easily done with the `copy` method:"
      ]
    },
    {
      "cell_type": "code",
      "execution_count": null,
      "metadata": {
        "jupyter": {
          "outputs_hidden": false
        },
        "id": "W6BIMRqB3RSM",
        "outputId": "44c55ae7-df34-4414-e3b0-dde2c1099b64"
      },
      "outputs": [
        {
          "name": "stdout",
          "output_type": "stream",
          "text": [
            "[[99  1]\n",
            " [ 4  0]]\n"
          ]
        }
      ],
      "source": [
        "x2_sub_copy = x2[:2, :2].copy()\n",
        "print(x2_sub_copy)"
      ]
    },
    {
      "cell_type": "markdown",
      "metadata": {
        "id": "SKqqnGH93RSM"
      },
      "source": [
        "If we now modify this subarray, the original array is not touched:"
      ]
    },
    {
      "cell_type": "code",
      "execution_count": null,
      "metadata": {
        "jupyter": {
          "outputs_hidden": false
        },
        "id": "ieuPMLUI3RSM",
        "outputId": "2de9b8fd-a8ae-40dd-db49-b824689bd16c"
      },
      "outputs": [
        {
          "name": "stdout",
          "output_type": "stream",
          "text": [
            "[[42  1]\n",
            " [ 4  0]]\n"
          ]
        }
      ],
      "source": [
        "x2_sub_copy[0, 0] = 42\n",
        "print(x2_sub_copy)"
      ]
    },
    {
      "cell_type": "code",
      "execution_count": null,
      "metadata": {
        "jupyter": {
          "outputs_hidden": false
        },
        "id": "vhx8Z3aY3RSN",
        "outputId": "3e393bf1-76e0-41f3-f15a-89ada8f2dc64"
      },
      "outputs": [
        {
          "name": "stdout",
          "output_type": "stream",
          "text": [
            "[[99  1  3  7]\n",
            " [ 4  0  2  3]\n",
            " [ 0  0  6  9]]\n"
          ]
        }
      ],
      "source": [
        "print(x2)"
      ]
    },
    {
      "cell_type": "markdown",
      "metadata": {
        "id": "tfbOJvh-3RSN"
      },
      "source": [
        "## Reshaping of Arrays\n",
        "\n",
        "Another useful type of operation is reshaping of arrays, which can be done with the `reshape` method.\n",
        "For example, if you want to put the numbers 1 through 9 in a $3 \\times 3$ grid, you can do the following:"
      ]
    },
    {
      "cell_type": "code",
      "execution_count": null,
      "metadata": {
        "jupyter": {
          "outputs_hidden": false
        },
        "id": "sPYLosxp3RSN",
        "outputId": "6c24690a-391d-4d9c-bce3-4c4a24ddf9b5"
      },
      "outputs": [
        {
          "name": "stdout",
          "output_type": "stream",
          "text": [
            "[[1 2 3]\n",
            " [4 5 6]\n",
            " [7 8 9]]\n"
          ]
        }
      ],
      "source": [
        "grid = np.arange(1, 10).reshape(3, 3)\n",
        "print(grid)"
      ]
    },
    {
      "cell_type": "markdown",
      "metadata": {
        "id": "E2zh1vcZ3RSN"
      },
      "source": [
        "Note that for this to work, the size of the initial array must match the size of the reshaped array, and in most cases the `reshape` method will return a no-copy view of the initial array."
      ]
    },
    {
      "cell_type": "markdown",
      "metadata": {
        "id": "-MYOKinK3RSO"
      },
      "source": [
        "A common reshaping operation is converting a one-dimensional array into a two-dimensional row or column matrix:"
      ]
    },
    {
      "cell_type": "code",
      "execution_count": null,
      "metadata": {
        "jupyter": {
          "outputs_hidden": false
        },
        "id": "hilYfcIz3RSO",
        "outputId": "c71d9512-51d8-4f62-ffe5-3eea75f038c9"
      },
      "outputs": [
        {
          "data": {
            "text/plain": [
              "array([[1, 2, 3]])"
            ]
          },
          "execution_count": 37,
          "metadata": {},
          "output_type": "execute_result"
        }
      ],
      "source": [
        "x = np.array([1, 2, 3])\n",
        "x.reshape((1, 3))  # row vector via reshape"
      ]
    },
    {
      "cell_type": "code",
      "execution_count": null,
      "metadata": {
        "id": "SnVmwQB73RSO",
        "outputId": "63eace2f-8960-4e8e-d307-fc064e2dcd1c"
      },
      "outputs": [
        {
          "data": {
            "text/plain": [
              "array([[1],\n",
              "       [2],\n",
              "       [3]])"
            ]
          },
          "execution_count": 38,
          "metadata": {},
          "output_type": "execute_result"
        }
      ],
      "source": [
        "x.reshape((3, 1))  # column vector via reshape"
      ]
    },
    {
      "cell_type": "markdown",
      "metadata": {
        "id": "q9G8kJL33RSO"
      },
      "source": [
        "A convenient shorthand for this is to use `np.newaxis` in the slicing syntax:"
      ]
    },
    {
      "cell_type": "code",
      "execution_count": null,
      "metadata": {
        "jupyter": {
          "outputs_hidden": false
        },
        "id": "AjaL6k8X3RSP",
        "outputId": "8176cde8-9e41-4314-ef91-5cee8bf7bbd9"
      },
      "outputs": [
        {
          "data": {
            "text/plain": [
              "array([[1, 2, 3]])"
            ]
          },
          "execution_count": 39,
          "metadata": {},
          "output_type": "execute_result"
        }
      ],
      "source": [
        "x[np.newaxis, :]  # row vector via newaxis"
      ]
    },
    {
      "cell_type": "code",
      "execution_count": null,
      "metadata": {
        "jupyter": {
          "outputs_hidden": false
        },
        "id": "hLidJ3hw3RSP",
        "outputId": "6740c667-2f63-4d64-c838-98a82c611d73"
      },
      "outputs": [
        {
          "data": {
            "text/plain": [
              "array([[1],\n",
              "       [2],\n",
              "       [3]])"
            ]
          },
          "execution_count": 40,
          "metadata": {},
          "output_type": "execute_result"
        }
      ],
      "source": [
        "x[:, np.newaxis]  # column vector via newaxis"
      ]
    },
    {
      "cell_type": "markdown",
      "metadata": {
        "id": "MgcbO6-N3RSP"
      },
      "source": [
        "This is a pattern that we will utilize often throughout the remainder of the book."
      ]
    },
    {
      "cell_type": "markdown",
      "metadata": {
        "id": "xFjoyXl13RSQ"
      },
      "source": [
        "## Array Concatenation and Splitting\n",
        "\n",
        "All of the preceding routines worked on single arrays. NumPy also provides tools to combine multiple arrays into one, and to conversely split a single array into multiple arrays."
      ]
    },
    {
      "cell_type": "markdown",
      "metadata": {
        "id": "gAASH-lq3RSQ"
      },
      "source": [
        "### Concatenation of Arrays\n",
        "\n",
        "Concatenation, or joining of two arrays in NumPy, is primarily accomplished using the routines `np.concatenate`, `np.vstack`, and `np.hstack`.\n",
        "`np.concatenate` takes a tuple or list of arrays as its first argument, as you can see here:"
      ]
    },
    {
      "cell_type": "code",
      "execution_count": null,
      "metadata": {
        "jupyter": {
          "outputs_hidden": false
        },
        "id": "jUYL6uTU3RSQ",
        "outputId": "860b14df-7ae8-40b1-eda9-0a59180df6a3"
      },
      "outputs": [
        {
          "data": {
            "text/plain": [
              "array([1, 2, 3, 3, 2, 1])"
            ]
          },
          "execution_count": 41,
          "metadata": {},
          "output_type": "execute_result"
        }
      ],
      "source": [
        "x = np.array([1, 2, 3])\n",
        "y = np.array([3, 2, 1])\n",
        "np.concatenate([x, y])"
      ]
    },
    {
      "cell_type": "markdown",
      "metadata": {
        "id": "v8bH9jap3RSR"
      },
      "source": [
        "You can also concatenate more than two arrays at once:"
      ]
    },
    {
      "cell_type": "code",
      "execution_count": null,
      "metadata": {
        "jupyter": {
          "outputs_hidden": false
        },
        "id": "VkBf1ZG03RSR",
        "outputId": "1fa6c108-6bb9-4aa6-96a6-1fc0b59347ce"
      },
      "outputs": [
        {
          "name": "stdout",
          "output_type": "stream",
          "text": [
            "[ 1  2  3  3  2  1 99 99 99]\n"
          ]
        }
      ],
      "source": [
        "z = np.array([99, 99, 99])\n",
        "print(np.concatenate([x, y, z]))"
      ]
    },
    {
      "cell_type": "markdown",
      "metadata": {
        "id": "6yqBmBqW3RSR"
      },
      "source": [
        "And it can be used for two-dimensional arrays:"
      ]
    },
    {
      "cell_type": "code",
      "execution_count": null,
      "metadata": {
        "jupyter": {
          "outputs_hidden": false
        },
        "id": "19nuR9Rk3RSR"
      },
      "outputs": [],
      "source": [
        "grid = np.array([[1, 2, 3],\n",
        "                 [4, 5, 6]])"
      ]
    },
    {
      "cell_type": "code",
      "execution_count": null,
      "metadata": {
        "jupyter": {
          "outputs_hidden": false
        },
        "id": "2rm2Mef13RSS",
        "outputId": "0b9b67d3-9f68-401c-f13f-ecd3227e60fe"
      },
      "outputs": [
        {
          "data": {
            "text/plain": [
              "array([[1, 2, 3],\n",
              "       [4, 5, 6],\n",
              "       [1, 2, 3],\n",
              "       [4, 5, 6]])"
            ]
          },
          "execution_count": 44,
          "metadata": {},
          "output_type": "execute_result"
        }
      ],
      "source": [
        "# concatenate along the first axis\n",
        "np.concatenate([grid, grid])"
      ]
    },
    {
      "cell_type": "code",
      "execution_count": null,
      "metadata": {
        "jupyter": {
          "outputs_hidden": false
        },
        "id": "-gTAmKN63RSS",
        "outputId": "2977cef4-a6e1-4746-feb3-04673721f05d"
      },
      "outputs": [
        {
          "data": {
            "text/plain": [
              "array([[1, 2, 3, 1, 2, 3],\n",
              "       [4, 5, 6, 4, 5, 6]])"
            ]
          },
          "execution_count": 45,
          "metadata": {},
          "output_type": "execute_result"
        }
      ],
      "source": [
        "# concatenate along the second axis (zero-indexed)\n",
        "np.concatenate([grid, grid], axis=1)"
      ]
    },
    {
      "cell_type": "markdown",
      "metadata": {
        "id": "UXR1yDs93RSS"
      },
      "source": [
        "For working with arrays of mixed dimensions, it can be clearer to use the `np.vstack` (vertical stack) and `np.hstack` (horizontal stack) functions:"
      ]
    },
    {
      "cell_type": "code",
      "execution_count": null,
      "metadata": {
        "jupyter": {
          "outputs_hidden": false
        },
        "id": "DIbKqT363RST",
        "outputId": "710434f5-0d7a-41cd-8a0d-437411998367"
      },
      "outputs": [
        {
          "data": {
            "text/plain": [
              "array([[1, 2, 3],\n",
              "       [1, 2, 3],\n",
              "       [4, 5, 6]])"
            ]
          },
          "execution_count": 46,
          "metadata": {},
          "output_type": "execute_result"
        }
      ],
      "source": [
        "# vertically stack the arrays\n",
        "np.vstack([x, grid])"
      ]
    },
    {
      "cell_type": "code",
      "execution_count": null,
      "metadata": {
        "jupyter": {
          "outputs_hidden": false
        },
        "id": "Ve0AL7XR3RST",
        "outputId": "bf030346-c909-46c0-8338-e5ce8b8fd5d5"
      },
      "outputs": [
        {
          "data": {
            "text/plain": [
              "array([[ 1,  2,  3, 99],\n",
              "       [ 4,  5,  6, 99]])"
            ]
          },
          "execution_count": 47,
          "metadata": {},
          "output_type": "execute_result"
        }
      ],
      "source": [
        "# horizontally stack the arrays\n",
        "y = np.array([[99],\n",
        "              [99]])\n",
        "np.hstack([grid, y])"
      ]
    },
    {
      "cell_type": "markdown",
      "metadata": {
        "id": "iix4cj8j3RSU"
      },
      "source": [
        "Similarly, for higher-dimensional arrays, `np.dstack` will stack arrays along the third axis."
      ]
    },
    {
      "cell_type": "markdown",
      "metadata": {
        "id": "VBT7UY-j3RSU"
      },
      "source": [
        "### Splitting of Arrays\n",
        "\n",
        "The opposite of concatenation is splitting, which is implemented by the functions `np.split`, `np.hsplit`, and `np.vsplit`.  For each of these, we can pass a list of indices giving the split points:"
      ]
    },
    {
      "cell_type": "code",
      "execution_count": null,
      "metadata": {
        "jupyter": {
          "outputs_hidden": false
        },
        "id": "avRB3BKG3RSV",
        "outputId": "d1363199-d0e5-4769-bb34-394d364d8286"
      },
      "outputs": [
        {
          "name": "stdout",
          "output_type": "stream",
          "text": [
            "[1 2 3] [99 99] [3 2 1]\n"
          ]
        }
      ],
      "source": [
        "x = [1, 2, 3, 99, 99, 3, 2, 1]\n",
        "x1, x2, x3 = np.split(x, [3, 5])\n",
        "print(x1, x2, x3)"
      ]
    },
    {
      "cell_type": "markdown",
      "metadata": {
        "id": "ulQuPBNQ3RSV"
      },
      "source": [
        "Notice that *N* split points leads to *N* + 1 subarrays.\n",
        "The related functions `np.hsplit` and `np.vsplit` are similar:"
      ]
    },
    {
      "cell_type": "code",
      "execution_count": null,
      "metadata": {
        "jupyter": {
          "outputs_hidden": false
        },
        "id": "UgUeKHoN3RSW",
        "outputId": "9427a2c5-1419-44b1-fef9-ab842ec3c383"
      },
      "outputs": [
        {
          "data": {
            "text/plain": [
              "array([[ 0,  1,  2,  3],\n",
              "       [ 4,  5,  6,  7],\n",
              "       [ 8,  9, 10, 11],\n",
              "       [12, 13, 14, 15]])"
            ]
          },
          "execution_count": 49,
          "metadata": {},
          "output_type": "execute_result"
        }
      ],
      "source": [
        "grid = np.arange(16).reshape((4, 4))\n",
        "grid"
      ]
    },
    {
      "cell_type": "code",
      "execution_count": null,
      "metadata": {
        "jupyter": {
          "outputs_hidden": false
        },
        "id": "fu77H_nv3RSW",
        "outputId": "b86d3f52-dbd5-40ad-a96c-36af66f1b206"
      },
      "outputs": [
        {
          "name": "stdout",
          "output_type": "stream",
          "text": [
            "[[0 1 2 3]\n",
            " [4 5 6 7]]\n",
            "[[ 8  9 10 11]\n",
            " [12 13 14 15]]\n"
          ]
        }
      ],
      "source": [
        "upper, lower = np.vsplit(grid, [2])\n",
        "print(upper)\n",
        "print(lower)"
      ]
    },
    {
      "cell_type": "code",
      "execution_count": null,
      "metadata": {
        "jupyter": {
          "outputs_hidden": false
        },
        "id": "_zPjuRIo3RSW",
        "outputId": "3ec4b44e-1702-4ba6-877b-e78609a67ef7"
      },
      "outputs": [
        {
          "name": "stdout",
          "output_type": "stream",
          "text": [
            "[[ 0  1]\n",
            " [ 4  5]\n",
            " [ 8  9]\n",
            " [12 13]]\n",
            "[[ 2  3]\n",
            " [ 6  7]\n",
            " [10 11]\n",
            " [14 15]]\n"
          ]
        }
      ],
      "source": [
        "left, right = np.hsplit(grid, [2])\n",
        "print(left)\n",
        "print(right)"
      ]
    },
    {
      "cell_type": "markdown",
      "metadata": {
        "id": "WQFOseS53RSX"
      },
      "source": [
        "Similarly, for higher-dimensional arrays, `np.dsplit` will split arrays along the third axis."
      ]
    }
  ],
  "metadata": {
    "anaconda-cloud": {},
    "jupytext": {
      "formats": "ipynb,md"
    },
    "kernelspec": {
      "display_name": "Python 3",
      "language": "python",
      "name": "python3"
    },
    "language_info": {
      "codemirror_mode": {
        "name": "ipython",
        "version": 3
      },
      "file_extension": ".py",
      "mimetype": "text/x-python",
      "name": "python",
      "nbconvert_exporter": "python",
      "pygments_lexer": "ipython3",
      "version": "3.9.2"
    },
    "colab": {
      "provenance": [],
      "include_colab_link": true
    }
  },
  "nbformat": 4,
  "nbformat_minor": 0
}
